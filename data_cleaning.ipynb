{
 "cells": [
  {
   "cell_type": "code",
   "execution_count": 22,
   "metadata": {},
   "outputs": [],
   "source": [
    "import pandas as pd\n",
    "import numpy as np\n",
    "from collections import Counter"
   ]
  },
  {
   "cell_type": "code",
   "execution_count": 23,
   "metadata": {},
   "outputs": [],
   "source": [
    "# dds_9 = pd.read_excel(\"data/DDS9_Data_Extract_with_labels.xlsx\")\n",
    "# dds_10 = pd.read_excel(\"data/DDS10_Data_Extract_with_labels.xlsx\")\n",
    "dds_11 = pd.read_excel(\"data/DDS11_Data_Extract_with_labels.xlsx\")\n",
    "column_names = pd.read_csv(\"data/Column Names.csv\")"
   ]
  },
  {
   "cell_type": "code",
   "execution_count": 24,
   "metadata": {},
   "outputs": [],
   "source": [
    "dds_11.columns = column_names['New_Name']\n"
   ]
  },
  {
   "cell_type": "code",
   "execution_count": 25,
   "metadata": {},
   "outputs": [],
   "source": [
    "def count_nulls():\n",
    "    \"\"\"\n",
    "    Display a dataframe of the columns and their null counts\n",
    "    \"\"\"\n",
    "    null_counts = dds_11.isna().sum()\n",
    "    null_counts = pd.DataFrame(null_counts[null_counts  > 0]).reset_index().rename(columns={0:'count'})\n",
    "    return null_counts"
   ]
  },
  {
   "cell_type": "code",
   "execution_count": 26,
   "metadata": {},
   "outputs": [],
   "source": [
    "# Replace all \"Yes/No\" columns with 1/0\n",
    "def replace_yes_no(df, col):\n",
    "    \"\"\"\n",
    "    This replaces all Yes answers with a 1 and all No/NULL answers with a 0.\n",
    "    For all NULL answers in a YES/NO column, a 0 is appropriate given that these columns are either ranking questions or questions where NULL means No.\n",
    "    \"\"\"\n",
    "    df[col] = df[col].apply(lambda x: 1 if x == 'Yes' else 0)"
   ]
  },
  {
   "cell_type": "code",
   "execution_count": 27,
   "metadata": {},
   "outputs": [],
   "source": [
    "# Figure out which columns are yes/no columns\n",
    "yes_no_cols = [col for col in dds_11.columns if 'Yes' in set(dds_11[col]) or 'No' in set(dds_11[col])]\n",
    "\n",
    "for col in yes_no_cols:\n",
    "    replace_yes_no(dds_11, col)"
   ]
  },
  {
   "cell_type": "code",
   "execution_count": 28,
   "metadata": {},
   "outputs": [],
   "source": [
    "# Replace NULLS in ranking columns with 0\n",
    "ranking_cols = [col for col in dds_11.columns if col.split('_')[0] == 'rank']\n",
    "for col in ranking_cols:\n",
    "    dds_11[col] = dds_11[col].fillna(0)"
   ]
  },
  {
   "cell_type": "code",
   "execution_count": 29,
   "metadata": {},
   "outputs": [
    {
     "data": {
      "text/plain": [
       "0       2.0\n",
       "1       0.0\n",
       "2       2.0\n",
       "3       0.0\n",
       "4       0.0\n",
       "       ... \n",
       "2126    0.0\n",
       "2127    0.0\n",
       "2128    0.0\n",
       "2129    0.0\n",
       "2130    0.0\n",
       "Name: rank_entertainment_news, Length: 2131, dtype: float64"
      ]
     },
     "execution_count": 29,
     "metadata": {},
     "output_type": "execute_result"
    }
   ],
   "source": [
    "dds_11['rank_entertainment_news']"
   ]
  },
  {
   "cell_type": "code",
   "execution_count": 30,
   "metadata": {},
   "outputs": [
    {
     "data": {
      "text/html": [
       "<div>\n",
       "<style scoped>\n",
       "    .dataframe tbody tr th:only-of-type {\n",
       "        vertical-align: middle;\n",
       "    }\n",
       "\n",
       "    .dataframe tbody tr th {\n",
       "        vertical-align: top;\n",
       "    }\n",
       "\n",
       "    .dataframe thead th {\n",
       "        text-align: right;\n",
       "    }\n",
       "</style>\n",
       "<table border=\"1\" class=\"dataframe\">\n",
       "  <thead>\n",
       "    <tr style=\"text-align: right;\">\n",
       "      <th></th>\n",
       "      <th>New_Name</th>\n",
       "      <th>count</th>\n",
       "    </tr>\n",
       "  </thead>\n",
       "  <tbody>\n",
       "    <tr>\n",
       "      <th>0</th>\n",
       "      <td>amt_willing_to_double_internet_speed</td>\n",
       "      <td>573</td>\n",
       "    </tr>\n",
       "    <tr>\n",
       "      <th>1</th>\n",
       "      <td>password_sharing_content</td>\n",
       "      <td>1275</td>\n",
       "    </tr>\n",
       "  </tbody>\n",
       "</table>\n",
       "</div>"
      ],
      "text/plain": [
       "                               New_Name  count\n",
       "0  amt_willing_to_double_internet_speed    573\n",
       "1              password_sharing_content   1275"
      ]
     },
     "execution_count": 30,
     "metadata": {},
     "output_type": "execute_result"
    }
   ],
   "source": [
    "count_nulls()"
   ]
  },
  {
   "cell_type": "code",
   "execution_count": 31,
   "metadata": {},
   "outputs": [],
   "source": [
    "# For Amount Willing to Pay to Double Internet Speed, the NULL values will be replaced with \"N/A\" since this is a categorical variable\n",
    "dds_11['amt_willing_to_double_internet_speed'] = dds_11['amt_willing_to_double_internet_speed'].fillna(\"N/A\")\n",
    "\n",
    "# For Password Sharing Content, the NULL values will be replaced with \"N/A\" since this is a categorical variable\n",
    "dds_11['password_sharing_content'] = dds_11['password_sharing_content'].fillna(\"N/A\")"
   ]
  },
  {
   "cell_type": "code",
   "execution_count": 32,
   "metadata": {},
   "outputs": [],
   "source": [
    "dds_11.to_csv('cleaned_data/dds11.csv', index=False)\n"
   ]
  },
  {
   "cell_type": "code",
   "execution_count": null,
   "metadata": {},
   "outputs": [],
   "source": []
  }
 ],
 "metadata": {
  "kernelspec": {
   "display_name": "base",
   "language": "python",
   "name": "python3"
  },
  "language_info": {
   "codemirror_mode": {
    "name": "ipython",
    "version": 3
   },
   "file_extension": ".py",
   "mimetype": "text/x-python",
   "name": "python",
   "nbconvert_exporter": "python",
   "pygments_lexer": "ipython3",
   "version": "3.8.2"
  },
  "orig_nbformat": 4,
  "vscode": {
   "interpreter": {
    "hash": "1a10f2fbefaf991ce5ca69099618177d9151aad1b2bddd9d8483fe14475f193e"
   }
  }
 },
 "nbformat": 4,
 "nbformat_minor": 2
}
